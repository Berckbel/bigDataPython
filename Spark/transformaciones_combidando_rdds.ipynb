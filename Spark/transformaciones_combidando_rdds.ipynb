{
 "metadata": {
  "language_info": {
   "codemirror_mode": {
    "name": "ipython",
    "version": 3
   },
   "file_extension": ".py",
   "mimetype": "text/x-python",
   "name": "python",
   "nbconvert_exporter": "python",
   "pygments_lexer": "ipython3",
   "version": "3.8.5-final"
  },
  "orig_nbformat": 2,
  "kernelspec": {
   "name": "python3",
   "display_name": "Python 3"
  }
 },
 "nbformat": 4,
 "nbformat_minor": 2,
 "cells": [
  {
   "cell_type": "code",
   "execution_count": 1,
   "metadata": {},
   "outputs": [],
   "source": [
    "from pyspark import SparkContext\n",
    "\n",
    "sc = SparkContext()"
   ]
  },
  {
   "cell_type": "code",
   "execution_count": 2,
   "metadata": {},
   "outputs": [
    {
     "output_type": "execute_result",
     "data": {
      "text/plain": [
       "[1, 2, 3, 4, 2, 4, 6]"
      ]
     },
     "metadata": {},
     "execution_count": 2
    }
   ],
   "source": [
    "r1 = sc.parallelize([1,2,3,4])\n",
    "r2 = sc.parallelize([2,4,6])\n",
    "r3 = r1.union(r2)\n",
    "r3.collect()"
   ]
  },
  {
   "cell_type": "code",
   "execution_count": 3,
   "metadata": {},
   "outputs": [
    {
     "output_type": "execute_result",
     "data": {
      "text/plain": [
       "[1, 2, 3, 4, 6]"
      ]
     },
     "metadata": {},
     "execution_count": 3
    }
   ],
   "source": [
    "r4 = r3.distinct()\n",
    "r4.collect()"
   ]
  },
  {
   "cell_type": "code",
   "execution_count": 4,
   "metadata": {},
   "outputs": [
    {
     "output_type": "execute_result",
     "data": {
      "text/plain": [
       "[2, 4]"
      ]
     },
     "metadata": {},
     "execution_count": 4
    }
   ],
   "source": [
    "r1 = sc.parallelize([1,2,3,4])\n",
    "r2 = sc.parallelize([2,4,2,6])\n",
    "r3 = r1.intersection(r2)\n",
    "r3.collect()"
   ]
  },
  {
   "cell_type": "code",
   "execution_count": 6,
   "metadata": {},
   "outputs": [
    {
     "output_type": "execute_result",
     "data": {
      "text/plain": [
       "[1, 1, 3, 4]"
      ]
     },
     "metadata": {},
     "execution_count": 6
    }
   ],
   "source": [
    "r1 = sc.parallelize([1,2,3,4,1])\n",
    "r2 = sc.parallelize([2,6])\n",
    "r3 = r1.subtract(r2)\n",
    "r3.collect()"
   ]
  },
  {
   "cell_type": "code",
   "execution_count": 7,
   "metadata": {},
   "outputs": [
    {
     "output_type": "execute_result",
     "data": {
      "text/plain": [
       "[(1, 'a'), (1, 'b'), (2, 'a'), (2, 'b'), (3, 'a'), (3, 'b')]"
      ]
     },
     "metadata": {},
     "execution_count": 7
    }
   ],
   "source": [
    "r1 = sc.parallelize([1,2,3])\n",
    "r2 = sc.parallelize(['a', 'b'])\n",
    "r3 = r1.cartesian(r2)\n",
    "r3.collect()"
   ]
  },
  {
   "cell_type": "code",
   "execution_count": 8,
   "metadata": {},
   "outputs": [
    {
     "output_type": "execute_result",
     "data": {
      "text/plain": [
       "[('b', (2, 8))]"
      ]
     },
     "metadata": {},
     "execution_count": 8
    }
   ],
   "source": [
    "r1 = sc.parallelize([('a', 1), ('b', 2), ('c', 3)])\n",
    "r2 = sc.parallelize([('b', 8), ('d', 7)])\n",
    "r3 = r1.join(r2)\n",
    "r3.collect()"
   ]
  },
  {
   "cell_type": "code",
   "execution_count": 9,
   "metadata": {},
   "outputs": [
    {
     "output_type": "execute_result",
     "data": {
      "text/plain": [
       "[('b', (2, 8)), ('b', (2, 7))]"
      ]
     },
     "metadata": {},
     "execution_count": 9
    }
   ],
   "source": [
    "r1 = sc.parallelize([('a', 1), ('b', 2), ('c', 3)])\n",
    "r2 = sc.parallelize([('b', 8), ('d', 7), ('b', 7)])\n",
    "r3 = r1.join(r2)\n",
    "r3.collect()"
   ]
  },
  {
   "cell_type": "code",
   "execution_count": null,
   "metadata": {},
   "outputs": [],
   "source": []
  }
 ]
}