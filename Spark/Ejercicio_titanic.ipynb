{
 "metadata": {
  "language_info": {
   "codemirror_mode": {
    "name": "ipython",
    "version": 3
   },
   "file_extension": ".py",
   "mimetype": "text/x-python",
   "name": "python",
   "nbconvert_exporter": "python",
   "pygments_lexer": "ipython3",
   "version": "3.8.5-final"
  },
  "orig_nbformat": 2,
  "kernelspec": {
   "name": "python3",
   "display_name": "Python 3"
  }
 },
 "nbformat": 4,
 "nbformat_minor": 2,
 "cells": [
  {
   "cell_type": "code",
   "execution_count": 4,
   "metadata": {},
   "outputs": [
    {
     "output_type": "stream",
     "name": "stdout",
     "text": [
      "891\n"
     ]
    }
   ],
   "source": [
    "import csv\n",
    "#from pyspark import SparkContext\n",
    "#sc = SparkContext()\n",
    "\n",
    "raw = (sc.textFile('../BigDataPython/data/Cap5/titanic.csv').map(lambda s: list(csv.reader([s]))[0]).filter(lambda l: l[0] != 'PassengerId'))\n",
    "\n",
    "print(raw.count())"
   ]
  },
  {
   "cell_type": "code",
   "execution_count": 6,
   "metadata": {},
   "outputs": [],
   "source": [
    "def complete(l):\n",
    "    for i in [1,2,4,5,6,7,9,11]:\n",
    "        if l[i] == '':\n",
    "            return False\n",
    "    return True\n",
    "\n",
    "def proyect_and_parse(l):\n",
    "    return {\n",
    "        'Survived': int(l[1]),\n",
    "        'Pclass': int(l[2]),\n",
    "        'Sex': l[4],\n",
    "        'Age': float(l[5]),\n",
    "        'SibSp': int(l[6]),\n",
    "        'Parch': int(l[7]),\n",
    "        'Fare': float(l[9]),\n",
    "        'Embarked': l[11]\n",
    "    }"
   ]
  },
  {
   "cell_type": "code",
   "execution_count": 7,
   "metadata": {},
   "outputs": [
    {
     "output_type": "stream",
     "name": "stdout",
     "text": [
      "712\n"
     ]
    }
   ],
   "source": [
    "non_null = (\n",
    "    raw.filter(complete).map(proyect_and_parse)\n",
    ")\n",
    "print(non_null.count())"
   ]
  },
  {
   "cell_type": "code",
   "execution_count": null,
   "metadata": {},
   "outputs": [],
   "source": []
  }
 ]
}