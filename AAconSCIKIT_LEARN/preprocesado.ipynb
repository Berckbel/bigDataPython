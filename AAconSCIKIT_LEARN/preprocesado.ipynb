{
 "metadata": {
  "language_info": {
   "codemirror_mode": {
    "name": "ipython",
    "version": 3
   },
   "file_extension": ".py",
   "mimetype": "text/x-python",
   "name": "python",
   "nbconvert_exporter": "python",
   "pygments_lexer": "ipython3",
   "version": "3.8.4-final"
  },
  "orig_nbformat": 2,
  "kernelspec": {
   "name": "python3",
   "display_name": "Python 3"
  }
 },
 "nbformat": 4,
 "nbformat_minor": 2,
 "cells": [
  {
   "cell_type": "code",
   "execution_count": 4,
   "metadata": {},
   "outputs": [
    {
     "output_type": "execute_result",
     "data": {
      "text/plain": [
       "     Survived  Pclass  Sex   Age  SibSp  Parch     Fare  Embarked  Sex_num\n",
       "0           0       3    1  22.0      1      0   7.2500         2        1\n",
       "1           1       1    0  38.0      1      0  71.2833         0        0\n",
       "2           1       3    0  26.0      0      0   7.9250         2        0\n",
       "3           1       1    0  35.0      1      0  53.1000         2        0\n",
       "4           0       3    1  35.0      0      0   8.0500         2        1\n",
       "..        ...     ...  ...   ...    ...    ...      ...       ...      ...\n",
       "707         0       3    0  39.0      0      5  29.1250         1        0\n",
       "708         0       2    1  27.0      0      0  13.0000         2        1\n",
       "709         1       1    0  19.0      0      0  30.0000         2        0\n",
       "710         1       1    1  26.0      0      0  30.0000         0        1\n",
       "711         0       3    1  32.0      0      0   7.7500         1        1\n",
       "\n",
       "[712 rows x 9 columns]"
      ],
      "text/html": "<div>\n<style scoped>\n    .dataframe tbody tr th:only-of-type {\n        vertical-align: middle;\n    }\n\n    .dataframe tbody tr th {\n        vertical-align: top;\n    }\n\n    .dataframe thead th {\n        text-align: right;\n    }\n</style>\n<table border=\"1\" class=\"dataframe\">\n  <thead>\n    <tr style=\"text-align: right;\">\n      <th></th>\n      <th>Survived</th>\n      <th>Pclass</th>\n      <th>Sex</th>\n      <th>Age</th>\n      <th>SibSp</th>\n      <th>Parch</th>\n      <th>Fare</th>\n      <th>Embarked</th>\n      <th>Sex_num</th>\n    </tr>\n  </thead>\n  <tbody>\n    <tr>\n      <th>0</th>\n      <td>0</td>\n      <td>3</td>\n      <td>1</td>\n      <td>22.0</td>\n      <td>1</td>\n      <td>0</td>\n      <td>7.2500</td>\n      <td>2</td>\n      <td>1</td>\n    </tr>\n    <tr>\n      <th>1</th>\n      <td>1</td>\n      <td>1</td>\n      <td>0</td>\n      <td>38.0</td>\n      <td>1</td>\n      <td>0</td>\n      <td>71.2833</td>\n      <td>0</td>\n      <td>0</td>\n    </tr>\n    <tr>\n      <th>2</th>\n      <td>1</td>\n      <td>3</td>\n      <td>0</td>\n      <td>26.0</td>\n      <td>0</td>\n      <td>0</td>\n      <td>7.9250</td>\n      <td>2</td>\n      <td>0</td>\n    </tr>\n    <tr>\n      <th>3</th>\n      <td>1</td>\n      <td>1</td>\n      <td>0</td>\n      <td>35.0</td>\n      <td>1</td>\n      <td>0</td>\n      <td>53.1000</td>\n      <td>2</td>\n      <td>0</td>\n    </tr>\n    <tr>\n      <th>4</th>\n      <td>0</td>\n      <td>3</td>\n      <td>1</td>\n      <td>35.0</td>\n      <td>0</td>\n      <td>0</td>\n      <td>8.0500</td>\n      <td>2</td>\n      <td>1</td>\n    </tr>\n    <tr>\n      <th>...</th>\n      <td>...</td>\n      <td>...</td>\n      <td>...</td>\n      <td>...</td>\n      <td>...</td>\n      <td>...</td>\n      <td>...</td>\n      <td>...</td>\n      <td>...</td>\n    </tr>\n    <tr>\n      <th>707</th>\n      <td>0</td>\n      <td>3</td>\n      <td>0</td>\n      <td>39.0</td>\n      <td>0</td>\n      <td>5</td>\n      <td>29.1250</td>\n      <td>1</td>\n      <td>0</td>\n    </tr>\n    <tr>\n      <th>708</th>\n      <td>0</td>\n      <td>2</td>\n      <td>1</td>\n      <td>27.0</td>\n      <td>0</td>\n      <td>0</td>\n      <td>13.0000</td>\n      <td>2</td>\n      <td>1</td>\n    </tr>\n    <tr>\n      <th>709</th>\n      <td>1</td>\n      <td>1</td>\n      <td>0</td>\n      <td>19.0</td>\n      <td>0</td>\n      <td>0</td>\n      <td>30.0000</td>\n      <td>2</td>\n      <td>0</td>\n    </tr>\n    <tr>\n      <th>710</th>\n      <td>1</td>\n      <td>1</td>\n      <td>1</td>\n      <td>26.0</td>\n      <td>0</td>\n      <td>0</td>\n      <td>30.0000</td>\n      <td>0</td>\n      <td>1</td>\n    </tr>\n    <tr>\n      <th>711</th>\n      <td>0</td>\n      <td>3</td>\n      <td>1</td>\n      <td>32.0</td>\n      <td>0</td>\n      <td>0</td>\n      <td>7.7500</td>\n      <td>1</td>\n      <td>1</td>\n    </tr>\n  </tbody>\n</table>\n<p>712 rows × 9 columns</p>\n</div>"
     },
     "metadata": {},
     "execution_count": 4
    }
   ],
   "source": [
    "#---PREPROCESADO\n",
    "import pandas as pd\n",
    "df = pd.read_csv('./titanic_ml.csv')\n",
    "df"
   ]
  },
  {
   "cell_type": "code",
   "execution_count": 5,
   "metadata": {},
   "outputs": [
    {
     "output_type": "stream",
     "name": "stdout",
     "text": [
      "[0.         0.         1.         1.         0.         0.48264984\n 0.2        0.83333333 0.06104473 0.        ]\n[0.         0.         1.         0.5        0.         0.29337539\n 0.4        0.5        0.03659756 0.        ]\n[0.         0.         1.         1.         1.         0.44479495\n 0.2        0.16666667 0.04713766 1.        ]\n"
     ]
    }
   ],
   "source": [
    "from sklearn.model_selection import train_test_split\n",
    "from sklearn.preprocessing import OneHotEncoder\n",
    "from sklearn.preprocessing import MinMaxScaler\n",
    "from sklearn.compose import ColumnTransformer\n",
    "\n",
    "def split_label(df, test_size, label):\n",
    "    train, test = train_test_split(df, test_size=test_size)\n",
    "    features = df.columns.drop(label)\n",
    "    train_x = train[features]\n",
    "    train_y = train[label]\n",
    "    test_x = test[features]\n",
    "    test_y = test[label]\n",
    "    return train_x, train_y, test_x, test_y\n",
    "\n",
    "train_x, train_y, test_x, test_y = split_label(df, 0.2, 'Survived')\n",
    "\n",
    "\n",
    "ohe = ColumnTransformer([('embarked_ohe', OneHotEncoder(categories='auto'), ['Embarked'])], remainder='passthrough')\n",
    "train_x_1 = ohe.fit_transform(train_x)\n",
    "\n",
    "min_max_scaler = MinMaxScaler()\n",
    "train_x_2 = min_max_scaler.fit_transform(train_x_1)\n",
    "\n",
    "for i in range(3):\n",
    "    print(train_x_2[i])"
   ]
  },
  {
   "cell_type": "code",
   "execution_count": 6,
   "metadata": {},
   "outputs": [],
   "source": [
    "# CLASIFICACION"
   ]
  },
  {
   "cell_type": "code",
   "execution_count": 7,
   "metadata": {},
   "outputs": [
    {
     "output_type": "execute_result",
     "data": {
      "text/plain": [
       "array([1, 0, 0, 0, 0, 0, 0, 0, 0, 0, 0, 1, 1, 0, 0, 0, 1, 1, 0, 0, 1, 0,\n",
       "       1, 0, 0, 0, 0, 1, 0, 0, 1, 0, 0, 1, 0, 0, 0, 0, 0, 0, 0, 0, 1, 1,\n",
       "       0, 1, 0, 0, 0, 0, 0, 0, 0, 1, 0, 1, 0, 0, 1, 1, 0, 0, 0, 0, 1, 0,\n",
       "       0, 0, 0, 0, 0, 0, 0, 0, 1, 1, 1, 0, 0, 0, 0, 0, 0, 0, 0, 0, 0, 0,\n",
       "       1, 0, 0, 0, 0, 0, 0, 0, 0, 0, 0, 0, 0, 1, 1, 0, 0, 0, 1, 0, 0, 0,\n",
       "       0, 0, 0, 0, 0, 0, 0, 0, 0, 0, 0, 1, 1, 1, 0, 0, 1, 1, 1, 1, 0, 0,\n",
       "       0, 0, 0, 1, 0, 0, 0, 0, 0, 0, 1], dtype=int64)"
      ]
     },
     "metadata": {},
     "execution_count": 7
    }
   ],
   "source": [
    "from sklearn.svm import SVC\n",
    "\n",
    "clf = SVC()\n",
    "clf.fit(train_x_2, train_y)\n",
    "\n",
    "test_x_2 = min_max_scaler.transform(ohe.transform(test_x))\n",
    "clf.predict(test_x_2)"
   ]
  },
  {
   "cell_type": "code",
   "execution_count": 8,
   "metadata": {},
   "outputs": [
    {
     "output_type": "execute_result",
     "data": {
      "text/plain": [
       "0.7902097902097902"
      ]
     },
     "metadata": {},
     "execution_count": 8
    }
   ],
   "source": [
    "clf.score(test_x_2, test_y)"
   ]
  },
  {
   "cell_type": "code",
   "execution_count": 9,
   "metadata": {},
   "outputs": [
    {
     "output_type": "execute_result",
     "data": {
      "text/plain": [
       "0.7832167832167832"
      ]
     },
     "metadata": {},
     "execution_count": 9
    }
   ],
   "source": [
    "from sklearn.neighbors import KNeighborsClassifier\n",
    "clf = KNeighborsClassifier()\n",
    "clf.fit(train_x_2, train_y)\n",
    "clf.score(test_x_2, test_y)"
   ]
  },
  {
   "cell_type": "code",
   "execution_count": 10,
   "metadata": {},
   "outputs": [],
   "source": [
    "#----REGRESION"
   ]
  },
  {
   "cell_type": "code",
   "execution_count": 11,
   "metadata": {},
   "outputs": [],
   "source": [
    "train_x, train_y, test_x, test_y = split_label(df, 0.2, 'Fare')\n",
    "\n",
    "\n",
    "index_Embarked = train_x.columns.get_loc('Embarked')\n",
    "ohe = ColumnTransformer([('embarked_ohe', OneHotEncoder(categories='auto'), ['Embarked'])], remainder='passthrough')\n",
    "train_x_1 = ohe.fit_transform(train_x)\n",
    "\n",
    "min_max_scaler = MinMaxScaler()\n",
    "train_x_2 = min_max_scaler.fit_transform(train_x_1)\n",
    "test_x_2 = min_max_scaler.transform(ohe.transform(test_x))\n"
   ]
  },
  {
   "cell_type": "code",
   "execution_count": 12,
   "metadata": {},
   "outputs": [
    {
     "output_type": "execute_result",
     "data": {
      "text/plain": [
       "0.2905882483433285"
      ]
     },
     "metadata": {},
     "execution_count": 12
    }
   ],
   "source": [
    "from sklearn.linear_model import LinearRegression\n",
    "reg = LinearRegression()\n",
    "reg.fit(train_x_2, train_y)\n",
    "reg.score(test_x_2, test_y)"
   ]
  },
  {
   "cell_type": "code",
   "execution_count": 13,
   "metadata": {},
   "outputs": [
    {
     "output_type": "execute_result",
     "data": {
      "text/plain": [
       "2432.053969361189"
      ]
     },
     "metadata": {},
     "execution_count": 13
    }
   ],
   "source": [
    "from sklearn.metrics import mean_squared_error, mean_absolute_error\n",
    "\n",
    "pred = reg.predict(test_x_2)\n",
    "mean_squared_error(test_y, pred)\n"
   ]
  },
  {
   "cell_type": "code",
   "execution_count": 14,
   "metadata": {},
   "outputs": [
    {
     "output_type": "execute_result",
     "data": {
      "text/plain": [
       "25.813459440559438"
      ]
     },
     "metadata": {},
     "execution_count": 14
    }
   ],
   "source": [
    "mean_absolute_error(test_y, pred)"
   ]
  },
  {
   "cell_type": "code",
   "execution_count": 15,
   "metadata": {},
   "outputs": [],
   "source": [
    "# ---- ANALISIS DE GRUPOS"
   ]
  },
  {
   "cell_type": "code",
   "execution_count": 18,
   "metadata": {},
   "outputs": [],
   "source": [
    "index_Embarked = df.columns.get_loc('Embarked')\n",
    "ohe = ColumnTransformer([('embarked_ohe', OneHotEncoder(categories='auto'), ['Embarked'])], remainder='passthrough')\n",
    "titanic_1 = ohe.fit_transform(df)\n",
    "min_max_scaler = MinMaxScaler()\n",
    "titanic_2 = min_max_scaler.fit_transform(titanic_1)"
   ]
  },
  {
   "cell_type": "code",
   "execution_count": 19,
   "metadata": {},
   "outputs": [
    {
     "output_type": "execute_result",
     "data": {
      "text/plain": [
       "array([[-1.94289029e-16,  4.16666667e-02,  9.58333333e-01,\n",
       "         1.79687500e-01,  7.12239583e-01,  1.00000000e+00,\n",
       "         3.75701927e-01,  9.27083333e-02,  4.34027778e-02,\n",
       "         4.24449926e-02,  1.00000000e+00],\n",
       "       [ 1.00000000e+00,  6.93889390e-18,  6.66133815e-16,\n",
       "         6.07692308e-01,  3.73076923e-01,  5.30769231e-01,\n",
       "         3.81939799e-01,  8.46153846e-02,  6.92307692e-02,\n",
       "         1.33306411e-01,  5.30769231e-01],\n",
       "       [-1.94289029e-16,  6.06060606e-02,  9.39393939e-01,\n",
       "         7.07070707e-01,  6.03535354e-01,  4.44089210e-16,\n",
       "         3.41048078e-01,  1.34343434e-01,  1.29629630e-01,\n",
       "         7.27802307e-02,  4.44089210e-16]])"
      ]
     },
     "metadata": {},
     "execution_count": 19
    }
   ],
   "source": [
    "from sklearn.cluster import KMeans\n",
    "clu = KMeans(n_clusters=3)\n",
    "clu.fit(titanic_2)\n",
    "clu.cluster_centers_"
   ]
  },
  {
   "cell_type": "code",
   "execution_count": 20,
   "metadata": {},
   "outputs": [
    {
     "output_type": "execute_result",
     "data": {
      "text/plain": [
       "array([0, 1, 2, 2, 0, 0, 0, 2, 1, 2, 2, 0, 0, 2, 2, 0, 2, 0, 0, 2, 0, 2,\n",
       "       2, 0, 1, 0, 1, 0, 0, 2, 1, 2, 2, 1, 2, 2, 0, 0, 1, 2, 1, 2, 1, 2,\n",
       "       0, 1, 0, 0, 2, 0, 2, 0, 0, 2, 0, 1, 0, 0, 0, 2, 0, 0, 0, 2, 2, 0,\n",
       "       2, 0, 0, 0, 0, 0, 0, 1, 1, 2, 0, 2, 0, 0, 0, 0, 2, 0, 0, 1, 0, 2,\n",
       "       1, 0, 0, 0, 1, 2, 0, 1, 2, 0, 1, 0, 0, 1, 0, 2, 2, 0, 1, 2, 0, 0,\n",
       "       1, 2, 2, 0, 0, 0, 0, 2, 0, 0, 0, 2, 0, 0, 1, 2, 0, 0, 2, 0, 0, 0,\n",
       "       0, 2, 0, 0, 0, 2, 0, 1, 0, 1, 0, 0, 0, 0, 2, 0, 0, 0, 2, 0, 2, 0,\n",
       "       1, 1, 0, 2, 0, 0, 1, 0, 2, 0, 1, 2, 1, 0, 2, 0, 0, 1, 2, 0, 1, 0,\n",
       "       0, 0, 0, 0, 0, 0, 0, 0, 2, 0, 0, 2, 0, 0, 2, 0, 0, 0, 0, 1, 0, 2,\n",
       "       2, 0, 0, 2, 0, 0, 2, 1, 2, 1, 2, 0, 0, 0, 0, 0, 0, 2, 2, 0, 2, 1,\n",
       "       2, 2, 0, 2, 0, 0, 0, 0, 1, 0, 0, 0, 2, 2, 1, 1, 2, 0, 1, 2, 1, 0,\n",
       "       0, 1, 1, 1, 1, 1, 2, 0, 0, 2, 2, 0, 2, 1, 0, 0, 2, 2, 1, 0, 2, 2,\n",
       "       1, 0, 0, 0, 0, 1, 0, 0, 0, 2, 0, 0, 0, 2, 2, 0, 0, 0, 1, 0, 0, 2,\n",
       "       2, 0, 1, 1, 0, 0, 1, 1, 1, 0, 0, 1, 2, 2, 1, 1, 0, 1, 1, 0, 2, 0,\n",
       "       0, 2, 1, 0, 0, 0, 1, 2, 0, 2, 0, 0, 2, 0, 0, 2, 0, 2, 0, 0, 0, 0,\n",
       "       2, 0, 2, 2, 0, 2, 0, 0, 2, 0, 2, 2, 0, 0, 2, 0, 0, 2, 2, 2, 0, 0,\n",
       "       2, 0, 0, 2, 0, 2, 0, 1, 0, 0, 1, 1, 1, 0, 2, 0, 0, 0, 0, 0, 0, 1,\n",
       "       0, 2, 1, 2, 0, 0, 0, 2, 0, 0, 2, 1, 2, 1, 0, 0, 0, 0, 1, 0, 1, 2,\n",
       "       0, 0, 2, 2, 2, 1, 2, 0, 0, 0, 0, 1, 0, 0, 2, 2, 0, 2, 0, 1, 0, 2,\n",
       "       0, 0, 2, 1, 2, 2, 0, 1, 1, 2, 2, 2, 0, 1, 0, 2, 0, 0, 1, 0, 1, 2,\n",
       "       0, 1, 2, 2, 0, 0, 0, 0, 2, 0, 0, 2, 0, 0, 0, 2, 2, 0, 2, 1, 0, 1,\n",
       "       2, 0, 1, 0, 0, 1, 0, 0, 0, 0, 1, 2, 0, 1, 0, 0, 0, 1, 2, 2, 0, 2,\n",
       "       0, 2, 2, 0, 1, 0, 1, 0, 0, 0, 0, 2, 0, 0, 0, 1, 2, 2, 0, 0, 2, 0,\n",
       "       1, 2, 1, 1, 0, 1, 2, 2, 0, 2, 0, 2, 0, 1, 0, 1, 0, 0, 0, 0, 0, 0,\n",
       "       2, 0, 0, 0, 0, 0, 2, 2, 1, 1, 0, 0, 0, 1, 0, 0, 0, 2, 0, 1, 1, 0,\n",
       "       0, 0, 1, 0, 1, 0, 1, 0, 0, 0, 2, 0, 2, 1, 0, 0, 0, 0, 1, 2, 0, 2,\n",
       "       0, 0, 0, 0, 0, 2, 0, 2, 2, 1, 0, 0, 0, 2, 1, 0, 1, 0, 0, 0, 0, 2,\n",
       "       0, 0, 2, 0, 0, 0, 2, 0, 0, 0, 0, 2, 0, 1, 2, 0, 2, 2, 0, 0, 0, 2,\n",
       "       2, 0, 2, 2, 1, 2, 0, 0, 0, 2, 0, 0, 1, 0, 0, 0, 2, 2, 1, 2, 0, 2,\n",
       "       0, 1, 0, 0, 0, 2, 0, 2, 0, 0, 0, 2, 0, 2, 1, 0, 0, 2, 0, 0, 2, 0,\n",
       "       1, 1, 0, 0, 0, 1, 0, 0, 0, 0, 1, 1, 0, 0, 1, 0, 0, 0, 1, 2, 2, 2,\n",
       "       2, 0, 1, 0, 0, 2, 0, 2, 1, 0, 0, 0, 2, 0, 0, 1, 1, 0, 0, 1, 2, 0,\n",
       "       2, 0, 0, 2, 0, 2, 1, 0])"
      ]
     },
     "metadata": {},
     "execution_count": 20
    }
   ],
   "source": [
    "clu.labels_"
   ]
  },
  {
   "cell_type": "code",
   "execution_count": 21,
   "metadata": {},
   "outputs": [
    {
     "output_type": "execute_result",
     "data": {
      "text/plain": [
       "0.4615548686309761"
      ]
     },
     "metadata": {},
     "execution_count": 21
    }
   ],
   "source": [
    "from sklearn.metrics import silhouette_score, calinski_harabasz_score\n",
    "\n",
    "silhouette_score(titanic_2, clu.labels_)\n"
   ]
  },
  {
   "cell_type": "code",
   "execution_count": 22,
   "metadata": {},
   "outputs": [
    {
     "output_type": "execute_result",
     "data": {
      "text/plain": [
       "434.3353255266315"
      ]
     },
     "metadata": {},
     "execution_count": 22
    }
   ],
   "source": [
    "calinski_harabasz_score(titanic_2, clu.labels_)"
   ]
  },
  {
   "cell_type": "code",
   "execution_count": null,
   "metadata": {},
   "outputs": [],
   "source": []
  }
 ]
}